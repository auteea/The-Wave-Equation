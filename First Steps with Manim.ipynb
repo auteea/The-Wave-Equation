{
 "cells": [
  {
   "cell_type": "markdown",
   "id": "substantial-impact",
   "metadata": {},
   "source": [
    "# Welcome to Manim!"
   ]
  },
  {
   "cell_type": "markdown",
   "id": "first-armenia",
   "metadata": {},
   "source": [
    "This is a temporary test environment in which you can play around with Manim without the need of installing it locally. Some basic knowledge of Python is helpful! Keep in mind that this is a *temporary* environment, though: your changes will not be saved and cannot be shared with others. To save your work, you will need to download the notebook file (\"File > Download as > Notebook (.ipynb)\"). Enjoy!\n",
    "\n",
    "> *Useful resources:* [Documentation](https://docs.manim.community), [Discord](https://discord.gg/mMRrZQW), [Reddit](https://www.reddit.com/r/manim/)"
   ]
  },
  {
   "cell_type": "markdown",
   "id": "honest-cruise",
   "metadata": {},
   "source": [
    "## Setup"
   ]
  },
  {
   "cell_type": "markdown",
   "id": "governing-increase",
   "metadata": {},
   "source": [
    "We begin our short walkthrough by importing everything from the library. Run the following code cell to do so (focus the cell and hit the *Run* button above, or press `Shift`+`Enter` – you can find more information about how to navigate and work with Jupyter notebooks in the *Help* menu at the top of this page).\n",
    "\n",
    "The second line controls the maximum width used to display videos in this notebook, and the third line controls the verbosity of the log output. Feel free to adapt both of these settings to your liking."
   ]
  },
  {
   "cell_type": "code",
   "id": "wound-foundation",
   "metadata": {
    "ExecuteTime": {
     "end_time": "2024-06-20T18:48:35.067062Z",
     "start_time": "2024-06-20T18:47:49.346149Z"
    }
   },
   "source": [
    "from manim import *\n",
    "\n",
    "config.media_width = \"75%\"\n",
    "config.verbosity = \"WARNING\""
   ],
   "outputs": [],
   "execution_count": 2
  },
  {
   "cell_type": "markdown",
   "id": "respected-copying",
   "metadata": {},
   "source": [
    "If you have executed the cell successfully, a message printing the installed version of the library should have appeared below it."
   ]
  },
  {
   "cell_type": "markdown",
   "id": "antique-knock",
   "metadata": {},
   "source": [
    "## Your first Scene"
   ]
  },
  {
   "cell_type": "markdown",
   "id": "drawn-dylan",
   "metadata": {},
   "source": [
    "Manim generates videos by rendering *Scenes*. These are special classes that have a `construct` method describing the animations that should be rendered. (For the sake of this tutorial it doesn't matter if you are not that familiar with Python or object-oriented programming terminology like *class* or *method* – but you should consider working through a Python tutorial if you want to keep learning Manim.)\n",
    "\n",
    "Enough of fancy words, let us look at an example. Run the cell below to render and display a video."
   ]
  },
  {
   "cell_type": "code",
   "id": "complicated-retirement",
   "metadata": {
    "ExecuteTime": {
     "end_time": "2024-06-20T19:10:42.333176Z",
     "start_time": "2024-06-20T19:10:07.087161Z"
    }
   },
   "source": [
    "%%manim -qm CircleToSquare\n",
    "\n",
    "class CircleToSquare(Scene):\n",
    "    def construct(self):\n",
    "        blue_circle = Circle(color=BLUE, fill_opacity=0.5)\n",
    "        green_square = Square(color=GREEN, fill_opacity=0.8)\n",
    "        self.play(Create(blue_circle))\n",
    "        self.wait()\n",
    "        \n",
    "        self.play(Transform(blue_circle, green_square))\n",
    "        self.wait()"
   ],
   "outputs": [
    {
     "data": {
      "text/plain": [
       "Manim Community \u001B[32mv0.\u001B[0m\u001B[32m18.1\u001B[0m\n",
       "\n"
      ],
      "text/html": [
       "<pre style=\"white-space:pre;overflow-x:auto;line-height:normal;font-family:Menlo,'DejaVu Sans Mono',consolas,'Courier New',monospace\">Manim Community <span style=\"color: #008000; text-decoration-color: #008000\">v0.18.1</span>\n",
       "\n",
       "</pre>\n"
      ]
     },
     "metadata": {},
     "output_type": "display_data"
    },
    {
     "name": "stderr",
     "output_type": "stream",
     "text": [
      "                                                                               \r"
     ]
    },
    {
     "data": {
      "text/plain": [
       "<IPython.core.display.Video object>"
      ],
      "text/html": [
       "<video src=\"media\\jupyter\\CircleToSquare@2024-06-20@22-10-42.mp4\" controls autoplay loop style=\"max-width: 75%;\"  >\n",
       "      Your browser does not support the <code>video</code> element.\n",
       "    </video>"
      ]
     },
     "metadata": {},
     "output_type": "display_data"
    }
   ],
   "execution_count": 4
  },
  {
   "cell_type": "markdown",
   "id": "tutorial-kelly",
   "metadata": {},
   "source": [
    "While parts of this example might seem self-explanatory, we'll still go over it step by step. First,\n",
    "```\n",
    "%%manim -qm CircleToSquare\n",
    "```\n",
    "is a *magic command*, it only works within Jupyter notebooks. It is very similar to how you would call `manim` from a terminal: The flag `-qm` controls the render quality, it is shorthand for `--quality=m`, medium rendering quality. This means that the video will be rendered in 720p with 30 fps. (Try to change it to `-qh` or `-ql` for *high* and *low* quality, respectively!)\n",
    "\n",
    "Finally, `CircleToSquare` is the name of the scene class you want to render in this particular cell, which already brings us to the next few lines:\n",
    "```py\n",
    "class CircleToSquare(Scene):\n",
    "    def construct(self):\n",
    "        [...]\n",
    "```\n",
    "This defines a Manim scene named `CircleToSquare`, and defines a custom `construct` method which acts as the *blueprint* for the video. The content of the `construct` method describes what exactly is rendered in the video. \n",
    "```py\n",
    "blue_circle = Circle(color=BLUE, fill_opacity=0.5)\n",
    "green_square = Square(color=GREEN, fill_opacity=0.8)\n",
    "```\n",
    "The first two lines create a `Circle` and a `Square` object with the specified colors and fill opacities. However, these are not added to the scene yet! To do that, you either have to use `self.add`, or ...\n",
    "```py\n",
    "self.play(Create(blue_circle))\n",
    "self.wait()\n",
    "```\n",
    "... by playing an animation that adds a Manim object (*Mobject*) to the scene. Within the method, `self` references the current scene, `self.play(my_animation)` can be read as \"*This scene should play my animation.*\" \n",
    "\n",
    "`Create` is such an animation, but there are many others (for example `FadeIn`, or `DrawBorderThenFill` – try them out above!). The `self.wait()` call does exactly what you would expect: it pauses the video for a while (by default: one second). Change it to `self.wait(2)` for a two-second pause, and so on.\n",
    "\n",
    "The final two lines,\n",
    "```\n",
    "self.play(Transform(blue_circle, green_square))\n",
    "self.wait()\n",
    "```\n",
    "are responsible for the actual transformation from the blue circle to the green square (plus a one second pause afterwards)."
   ]
  },
  {
   "cell_type": "markdown",
   "id": "polyphonic-sucking",
   "metadata": {},
   "source": [
    "## Positioning Mobjects and moving them around"
   ]
  },
  {
   "cell_type": "markdown",
   "id": "pursuant-bubble",
   "metadata": {},
   "source": [
    "New problem: We want to create a scene in which a circle is created while simultaneously some text is written below it. We can reuse our blue circle from above, and then add some new code:"
   ]
  },
  {
   "cell_type": "code",
   "execution_count": 4,
   "id": "dedicated-wiring",
   "metadata": {},
   "outputs": [
    {
     "data": {
      "text/html": [
       "<pre style=\"white-space:pre;overflow-x:auto;line-height:normal;font-family:Menlo,'DejaVu Sans Mono',consolas,'Courier New',monospace\">Manim Community <span style=\"color: #008000; text-decoration-color: #008000\">v0.18.1</span>\n",
       "\n",
       "</pre>\n"
      ],
      "text/plain": [
       "Manim Community \u001B[32mv0.\u001B[0m\u001B[32m18.1\u001B[0m\n",
       "\n"
      ]
     },
     "metadata": {},
     "output_type": "display_data"
    },
    {
     "name": "stderr",
     "output_type": "stream",
     "text": [
      "                                                                                  \r"
     ]
    },
    {
     "data": {
      "text/html": [
       "<video src=\"media/jupyter/HelloCircle@2024-06-19@10-32-41.mp4\" controls autoplay loop style=\"max-width: 75%;\"  >\n",
       "      Your browser does not support the <code>video</code> element.\n",
       "    </video>"
      ],
      "text/plain": [
       "<IPython.core.display.Video object>"
      ]
     },
     "metadata": {},
     "output_type": "display_data"
    }
   ],
   "source": [
    "%%manim -qm HelloCircle\n",
    "\n",
    "class HelloCircle(Scene):\n",
    "    def construct(self):\n",
    "        # blue_circle = Circle(color=BLUE, fill_opacity=0.5)\n",
    "        # We can also create a \"plain\" circle and add the desired attributes via set methods:\n",
    "        circle = Circle()\n",
    "        blue_circle = circle.set_color(BLUE).set_opacity(0.5)\n",
    "        \n",
    "        label = Text(\"A wild circle appears!\")\n",
    "        label.next_to(blue_circle, DOWN, buff=0.5)\n",
    "        \n",
    "        self.play(Create(blue_circle), Write(label))\n",
    "        self.wait()"
   ]
  },
  {
   "cell_type": "markdown",
   "id": "quick-temperature",
   "metadata": {},
   "source": [
    "Apparently, text can be rendered by using a `Text` Mobject – and the desired position is achieved by the line\n",
    "```py\n",
    "label.next_to(blue_circle, DOWN, buff=0.5)\n",
    "```\n",
    "Mobjects have a few methods for positioning, `next_to` is one of them (`shift`, `to_edge`, `to_corner`, `move_to` are a few others – check them out in our [documentation](https://docs.manim.community/) by using the search bar on the left!). For `next_to`, the first argument that is passed (`blue_circle`) describes next to which object our `label` should be placed. The second argument, `DOWN`, describes the direction (try changing it to `LEFT`, `UP`, or `RIGHT` instead!). And finally, `buff=0.5` controls the \"buffer distance\" between `blue_circle` and `label`, increasing this value will push `label` further down.\n",
    "\n",
    "But also note that the `self.play` call has been changed: it is possible to pass several animation arguments to `self.play`, they will then be played simultaneously. If you want to play them one after the other, replace the `self.play` call with the lines\n",
    "```py\n",
    "self.play(Create(blue_circle))\n",
    "self.play(Write(label))\n",
    "```\n",
    "and see what happens.\n",
    "\n",
    "By the way, Mobjects naturally also have non-positioning related methods: for example, to get our blue circle, we could also create a default one, and then set color and opacity:\n",
    "```py\n",
    "circle = Circle()\n",
    "blue_transparent_circle = circle.set_color(BLUE)\n",
    "blue_circle = blue_transparent_circle.set_opacity(0.5)\n",
    "```\n",
    "A shorter version of this would be\n",
    "```py\n",
    "blue_circle = Circle().set_color(BLUE).set_opacity(0.5)\n",
    "```\n",
    "For now, we will stick with setting the attributes directly in the call to `Circle`."
   ]
  },
  {
   "cell_type": "markdown",
   "id": "composed-solomon",
   "metadata": {},
   "source": [
    "## Animating Method calls: the `.animate` syntax"
   ]
  },
  {
   "cell_type": "markdown",
   "id": "opponent-institution",
   "metadata": {},
   "source": [
    "In the last example we have encountered the `.next_to` method, one of many (!) methods that modify Mobjects in one way or the other. But what if we wanted to animate how a Mobject changes when one of these methods is applied, say, when we `.shift` something around, or `.rotate` a Mobject, or maybe `.scale` it? The `.animate` syntax is the answer to this question, let us look at an example."
   ]
  },
  {
   "cell_type": "code",
   "id": "formal-bargain",
   "metadata": {
    "ExecuteTime": {
     "end_time": "2024-06-20T19:40:49.824214Z",
     "start_time": "2024-06-20T19:40:01.125698Z"
    }
   },
   "source": [
    "%%manim -qm CircleAnnouncement\n",
    "\n",
    "class CircleAnnouncement(Scene):\n",
    "    def construct(self):\n",
    "        blue_circle = Circle(color=BLUE, fill_opacity=0.5)\n",
    "        announcement = Text(\"Let us draw a circle.\")\n",
    "        \n",
    "        self.play(Write(announcement))\n",
    "        self.wait()\n",
    "        \n",
    "        self.play(announcement.animate.next_to(blue_circle, UP, buff=0.5))\n",
    "        self.play(Create(blue_circle))"
   ],
   "outputs": [
    {
     "data": {
      "text/plain": [
       "Manim Community \u001B[32mv0.\u001B[0m\u001B[32m18.1\u001B[0m\n",
       "\n"
      ],
      "text/html": [
       "<pre style=\"white-space:pre;overflow-x:auto;line-height:normal;font-family:Menlo,'DejaVu Sans Mono',consolas,'Courier New',monospace\">Manim Community <span style=\"color: #008000; text-decoration-color: #008000\">v0.18.1</span>\n",
       "\n",
       "</pre>\n"
      ]
     },
     "metadata": {},
     "output_type": "display_data"
    },
    {
     "name": "stderr",
     "output_type": "stream",
     "text": [
      "                                                                                                             \r"
     ]
    },
    {
     "data": {
      "text/plain": [
       "<IPython.core.display.Video object>"
      ],
      "text/html": [
       "<video src=\"media\\jupyter\\CircleAnnouncement@2024-06-20@22-40-49.mp4\" controls autoplay loop style=\"max-width: 75%;\"  >\n",
       "      Your browser does not support the <code>video</code> element.\n",
       "    </video>"
      ]
     },
     "metadata": {},
     "output_type": "display_data"
    }
   ],
   "execution_count": 5
  },
  {
   "cell_type": "markdown",
   "id": "attractive-citizenship",
   "metadata": {},
   "source": [
    "Where we would normally use `announcement.next_to(blue_circle, UP, buff=0.5)` to position the text without animation, we can prepend `.animate` to the method call to turn the application of the method into an animation which can then be played using `self.play`. This works with all methods that modify a Mobject in some way:"
   ]
  },
  {
   "cell_type": "code",
   "execution_count": null,
   "id": "primary-postage",
   "metadata": {},
   "outputs": [],
   "source": [
    "%%manim -qm AnimateSyntax\n",
    "\n",
    "class AnimateSyntax(Scene):\n",
    "    def construct(self):\n",
    "        triangle = Triangle(color=RED, fill_opacity=1)\n",
    "        self.play(DrawBorderThenFill(triangle))\n",
    "        self.play(triangle.animate.shift(LEFT))\n",
    "        self.play(triangle.animate.shift(RIGHT).scale(2))\n",
    "        self.play(triangle.animate.rotate(PI/3))"
   ]
  },
  {
   "cell_type": "markdown",
   "id": "prompt-reaction",
   "metadata": {},
   "source": [
    "In the first play call the triangle is created, in the second it is shifted to the left, then in the third it is shifted back to the right and simultaneously scaled by a factor of 2, and finally in the fourth call it is rotated by an angle of $\\pi/3$. Run the cell above again after modifying some of the values, or trying other methods like, e.g., `set_color`)."
   ]
  },
  {
   "cell_type": "markdown",
   "id": "expired-stomach",
   "metadata": {},
   "source": [
    "When looking closely at the last animation from the scene above, the rotation, you might notice that this is not *actually* a rotation. The triangle is transformed to a rotated version of itself, but during the animation the vertices of the triangle don't move along an arc (as they would when the triangle was rotated around its center), but rather along straight lines, which gives the animation the impression that the triangle first shrinks a bit and then grows again.\n",
    "\n",
    "This is actually **not a bug**, but a consequence of how the `.animate` syntax works: the animation is constructed by specifying the starting state (the `triangle` Mobject in the example above), and the final state (the rotated mobject, `triangle.rotate(PI/3)`). Manim then tries to interpolate between these two, but doesn't actually know that you would like to smoothly rotate the triangle. The following example illustrates this clearly:"
   ]
  },
  {
   "cell_type": "code",
   "execution_count": null,
   "id": "recent-department",
   "metadata": {},
   "outputs": [],
   "source": [
    "%%manim -qm DifferentRotations\n",
    "\n",
    "class DifferentRotations(Scene):\n",
    "    def construct(self):\n",
    "        left_square = Square(color=BLUE, fill_opacity=0.7).shift(2*LEFT)\n",
    "        right_square = Square(color=GREEN, fill_opacity=0.7).shift(2*RIGHT)\n",
    "        self.play(left_square.animate.rotate(PI), Rotate(right_square, angle=PI), run_time=2)\n",
    "        self.wait()"
   ]
  },
  {
   "cell_type": "markdown",
   "id": "urban-liver",
   "metadata": {},
   "source": [
    "## Typesetting Mathematics"
   ]
  },
  {
   "cell_type": "markdown",
   "id": "divine-evanescence",
   "metadata": {},
   "source": [
    "Manim supports rendering and animating LaTeX, the markup language mathematics is very often typeset in. Learn more about it [in this 30 minute tutorial](https://www.overleaf.com/learn/latex/Learn_LaTeX_in_30_minutes).\n",
    "\n",
    "Here is a simple example for working with LaTeX in Manim:"
   ]
  },
  {
   "cell_type": "code",
   "execution_count": null,
   "id": "bulgarian-violin",
   "metadata": {},
   "outputs": [],
   "source": [
    "%%manim -qm CauchyIntegralFormula\n",
    "\n",
    "class CauchyIntegralFormula(Scene):\n",
    "    def construct(self):\n",
    "        formula = MathTex(r\"[z^n]f(z) = \\frac{1}{2\\pi i}\\oint_{\\gamma} \\frac{f(z)}{z^{n+1}}~dz\")\n",
    "        self.play(Write(formula), run_time=3)\n",
    "        self.wait()"
   ]
  },
  {
   "cell_type": "markdown",
   "id": "potential-crowd",
   "metadata": {},
   "source": [
    "As this example demonstrates, `MathTex` allows to render simple (math mode) LaTeX strings. If you want to render \"normal mode\" LaTeX, use `Tex` instead.\n",
    "\n",
    "Of course, Manim can also help you to visualize transformations of typeset formulae. Consider the following example:"
   ]
  },
  {
   "cell_type": "code",
   "execution_count": null,
   "id": "proof-multiple",
   "metadata": {},
   "outputs": [],
   "source": [
    "%%manim -qm TransformEquation\n",
    "\n",
    "class TransformEquation(Scene):\n",
    "    def construct(self):\n",
    "        eq1 = MathTex(\"42 {{ a^2 }} + {{ b^2 }} = {{ c^2 }}\")\n",
    "        eq2 = MathTex(\"42 {{ a^2 }} = {{ c^2 }} - {{ b^2 }}\")\n",
    "        eq3 = MathTex(r\"a^2 = \\frac{c^2 - b^2}{42}\")\n",
    "        self.add(eq1)\n",
    "        self.wait()\n",
    "        self.play(TransformMatchingTex(eq1, eq2))\n",
    "        self.wait()\n",
    "        self.play(TransformMatchingShapes(eq2, eq3))\n",
    "        self.wait()"
   ]
  },
  {
   "cell_type": "markdown",
   "id": "fuzzy-output",
   "metadata": {},
   "source": [
    "In this last example, `eq1` and `eq2` have some double braces positions where, conventionally, there wouldn't be any in plain LaTeX. This is special Manim notation that groups the resulting `Tex` Mobjects `eq1` and `eq2` in a particular way.\n",
    "\n",
    "This special notation is helpful when using the `TransformMatchingTex` animation: it will transform parts with equal TeX strings (for example, `a^2` to `a^2`) into each other – and without the special notation, the equation is considered to be one long TeX string. In comparison, `TransformMatchingShapes` is less smart: it simply tries to transform shapes that \"look the same\" into each other – nonetheless, it is still often very useful."
   ]
  },
  {
   "cell_type": "markdown",
   "id": "monetary-sleep",
   "metadata": {},
   "source": [
    "If you have made it this far, you should have a first impression of basic usage of the library. You can find a few more advanced examples that illustrate some more specialized concepts in the library below. Go ahead, try to play around and modify them just like you did for the ones above! Explore our [documentation](https://docs.manim.community) to get an idea about things that are already implemented – and look at the source code in case you want to build some more complex objects yourself.\n",
    "\n",
    "The [community](https://www.manim.community/discord/) is certainly also happy to answer questions – and we hope you share your awesome projects with us! **Happy *manimating*!**"
   ]
  },
  {
   "cell_type": "markdown",
   "id": "attractive-fight",
   "metadata": {},
   "source": [
    "## Some more specialized examples"
   ]
  },
  {
   "cell_type": "markdown",
   "id": "editorial-growth",
   "metadata": {},
   "source": [
    "Before you delve right into these examples: please note that they illustrate specialized concepts, they are meant to give you a feeling for how more complex scenes are setup and coded. The examples don't come with additional explanation, they are **not intended as (entry level) learning resources**."
   ]
  },
  {
   "cell_type": "code",
   "execution_count": 5,
   "id": "unexpected-berlin",
   "metadata": {},
   "outputs": [
    {
     "data": {
      "text/html": [
       "<pre style=\"white-space:pre;overflow-x:auto;line-height:normal;font-family:Menlo,'DejaVu Sans Mono',consolas,'Courier New',monospace\">Manim Community <span style=\"color: #008000; text-decoration-color: #008000\">v0.18.1</span>\n",
       "\n",
       "</pre>\n"
      ],
      "text/plain": [
       "Manim Community \u001B[32mv0.\u001B[0m\u001B[32m18.1\u001B[0m\n",
       "\n"
      ]
     },
     "metadata": {},
     "output_type": "display_data"
    },
    {
     "name": "stderr",
     "output_type": "stream",
     "text": [
      "                                                                                                                                                          \r"
     ]
    },
    {
     "data": {
      "text/html": [
       "<video src=\"media/jupyter/FormulaEmphasis@2024-06-19@10-36-36.mp4\" controls autoplay loop style=\"max-width: 75%;\"  >\n",
       "      Your browser does not support the <code>video</code> element.\n",
       "    </video>"
      ],
      "text/plain": [
       "<IPython.core.display.Video object>"
      ]
     },
     "metadata": {},
     "output_type": "display_data"
    }
   ],
   "source": [
    "%%manim -qm FormulaEmphasis\n",
    "\n",
    "class FormulaEmphasis(Scene):\n",
    "    def construct(self):\n",
    "        product_formula = MathTex(\n",
    "            r\"\\frac{d}{dx} f(x)g(x) =\",\n",
    "            r\"f(x) \\frac{d}{dx} g(x)\",\n",
    "            r\"+\",\n",
    "            r\"g(x) \\frac{d}{dx} f(x)\"\n",
    "        )\n",
    "        self.play(Write(product_formula))\n",
    "        box1 = SurroundingRectangle(product_formula[1], buff=0.1)\n",
    "        box2 = SurroundingRectangle(product_formula[3], buff=0.1)\n",
    "        self.play(Create(box1))\n",
    "        self.wait()\n",
    "        self.play(Transform(box1, box2))\n",
    "        self.wait()"
   ]
  },
  {
   "cell_type": "code",
   "execution_count": 6,
   "id": "aware-dispatch",
   "metadata": {},
   "outputs": [
    {
     "data": {
      "text/html": [
       "<pre style=\"white-space:pre;overflow-x:auto;line-height:normal;font-family:Menlo,'DejaVu Sans Mono',consolas,'Courier New',monospace\">Manim Community <span style=\"color: #008000; text-decoration-color: #008000\">v0.18.1</span>\n",
       "\n",
       "</pre>\n"
      ],
      "text/plain": [
       "Manim Community \u001B[32mv0.\u001B[0m\u001B[32m18.1\u001B[0m\n",
       "\n"
      ]
     },
     "metadata": {},
     "output_type": "display_data"
    },
    {
     "name": "stderr",
     "output_type": "stream",
     "text": [
      "                                                                                                                                                          \r"
     ]
    },
    {
     "data": {
      "text/html": [
       "<video src=\"media/jupyter/PlotExample@2024-06-19@10-38-05.mp4\" controls autoplay loop style=\"max-width: 75%;\"  >\n",
       "      Your browser does not support the <code>video</code> element.\n",
       "    </video>"
      ],
      "text/plain": [
       "<IPython.core.display.Video object>"
      ]
     },
     "metadata": {},
     "output_type": "display_data"
    }
   ],
   "source": [
    "%%manim -qm PlotExample\n",
    "\n",
    "class PlotExample(Scene):\n",
    "    def construct(self):\n",
    "        plot_axes = Axes(\n",
    "            x_range=[0, 1, 0.05],\n",
    "            y_range=[0, 1, 0.05],\n",
    "            x_length=9,\n",
    "            y_length=5.5,\n",
    "            axis_config={\n",
    "                \"numbers_to_include\": np.arange(0, 1 + 0.1, 0.1),\n",
    "                \"font_size\": 24,\n",
    "            },\n",
    "            tips=False,\n",
    "        )\n",
    "\n",
    "        y_label = plot_axes.get_y_axis_label(\"y\", edge=LEFT, direction=LEFT, buff=0.4)\n",
    "        x_label = plot_axes.get_x_axis_label(\"x\")\n",
    "        plot_labels = VGroup(x_label, y_label)\n",
    "\n",
    "        plots = VGroup()\n",
    "        for n in np.arange(1, 20 + 0.5, 0.5):\n",
    "            plots += plot_axes.plot(lambda x: x**n, color=WHITE)\n",
    "            plots += plot_axes.plot(\n",
    "                lambda x: x**(1 / n), color=WHITE, use_smoothing=False\n",
    "            )\n",
    "\n",
    "        extras = VGroup()\n",
    "        extras += plot_axes.get_horizontal_line(plot_axes.c2p(1, 1, 0), color=BLUE)\n",
    "        extras += plot_axes.get_vertical_line(plot_axes.c2p(1, 1, 0), color=BLUE)\n",
    "        extras += Dot(point=plot_axes.c2p(1, 1, 0), color=YELLOW)\n",
    "        title = Title(\n",
    "            r\"Graphs of $y=x^{\\frac{1}{n}}$ and $y=x^n (n=1, 1.5, 2, 2.5, 3, \\dots, 20)$\",\n",
    "            include_underline=False,\n",
    "            font_size=40,\n",
    "        )\n",
    "        \n",
    "        self.play(Write(title))\n",
    "        self.play(Create(plot_axes), Create(plot_labels), Create(extras))\n",
    "        self.play(AnimationGroup(*[Create(plot) for plot in plots], lag_ratio=0.05))"
   ]
  },
  {
   "cell_type": "code",
   "execution_count": null,
   "id": "significant-toner",
   "metadata": {},
   "outputs": [],
   "source": [
    "%%manim -qm ErdosRenyiGraph\n",
    "\n",
    "import networkx as nx\n",
    "\n",
    "nxgraph = nx.erdos_renyi_graph(14, 0.5)\n",
    "\n",
    "class ErdosRenyiGraph(Scene):\n",
    "    def construct(self):\n",
    "        G = Graph.from_networkx(nxgraph, layout=\"spring\", layout_scale=3.5)\n",
    "        self.play(Create(G))\n",
    "        self.play(*[G[v].animate.move_to(5*RIGHT*np.cos(ind/7 * PI) +\n",
    "                                         3*UP*np.sin(ind/7 * PI))\n",
    "                    for ind, v in enumerate(G.vertices)])\n",
    "        self.play(Uncreate(G))"
   ]
  },
  {
   "cell_type": "code",
   "execution_count": null,
   "id": "electrical-forty",
   "metadata": {},
   "outputs": [],
   "source": [
    "%%manim -qm CodeFromString\n",
    "\n",
    "class CodeFromString(Scene):\n",
    "    def construct(self):\n",
    "        code = '''from manim import Scene, Square\n",
    "\n",
    "class FadeInSquare(Scene):\n",
    "    def construct(self):\n",
    "        s = Square()\n",
    "        self.play(FadeIn(s))\n",
    "        self.play(s.animate.scale(2))\n",
    "        self.wait()\n",
    "'''\n",
    "        rendered_code = Code(code=code, tab_width=4, background=\"window\",\n",
    "                            language=\"Python\", font=\"Monospace\")\n",
    "        self.play(Write(rendered_code))\n",
    "        self.wait(2)"
   ]
  },
  {
   "cell_type": "code",
   "execution_count": null,
   "id": "funny-reservoir",
   "metadata": {},
   "outputs": [],
   "source": [
    "%%manim -qm OpeningManim\n",
    "\n",
    "class OpeningManim(Scene):\n",
    "    def construct(self):\n",
    "        title = Tex(r\"This is some \\LaTeX\")\n",
    "        basel = MathTex(r\"\\sum_{n=1}^\\infty \\frac{1}{n^2} = \\frac{\\pi^2}{6}\")\n",
    "        VGroup(title, basel).arrange(DOWN)\n",
    "        self.play(\n",
    "            Write(title),\n",
    "            FadeIn(basel, shift=UP),\n",
    "        )\n",
    "        self.wait()\n",
    "\n",
    "        transform_title = Tex(\"That was a transform\")\n",
    "        transform_title.to_corner(UP + LEFT)\n",
    "        self.play(\n",
    "            Transform(title, transform_title),\n",
    "            LaggedStart(*[FadeOut(obj, shift=DOWN) for obj in basel]),\n",
    "        )\n",
    "        self.wait()\n",
    "\n",
    "        grid = NumberPlane(x_range=(-10, 10, 1), y_range=(-6.0, 6.0, 1))\n",
    "        grid_title = Tex(\"This is a grid\")\n",
    "        grid_title.scale(1.5)\n",
    "        grid_title.move_to(transform_title)\n",
    "\n",
    "        self.add(grid, grid_title)\n",
    "        self.play(\n",
    "            FadeOut(title),\n",
    "            FadeIn(grid_title, shift=DOWN),\n",
    "            Create(grid, run_time=3, lag_ratio=0.1),\n",
    "        )\n",
    "        self.wait()\n",
    "\n",
    "        grid_transform_title = Tex(\n",
    "            r\"That was a non-linear function \\\\ applied to the grid\"\n",
    "        )\n",
    "        grid_transform_title.move_to(grid_title, UL)\n",
    "        grid.prepare_for_nonlinear_transform()\n",
    "        self.play(\n",
    "            grid.animate.apply_function(\n",
    "                lambda p: p + np.array([np.sin(p[1]), np.sin(p[0]), 0])\n",
    "            ),\n",
    "            run_time=3,\n",
    "        )\n",
    "        self.wait()\n",
    "        self.play(Transform(grid_title, grid_transform_title))\n",
    "        self.wait()"
   ]
  },
  {
   "cell_type": "code",
   "execution_count": 7,
   "id": "enabling-greek",
   "metadata": {},
   "outputs": [
    {
     "ename": "ModuleNotFoundError",
     "evalue": "No module named 'manimlib'",
     "output_type": "error",
     "traceback": [
      "\u001B[0;31m---------------------------------------------------------------------------\u001B[0m",
      "\u001B[0;31mModuleNotFoundError\u001B[0m                       Traceback (most recent call last)",
      "Cell \u001B[0;32mIn[7], line 1\u001B[0m\n\u001B[0;32m----> 1\u001B[0m \u001B[38;5;28;01mfrom\u001B[39;00m \u001B[38;5;21;01mmanimlib\u001B[39;00m \u001B[38;5;28;01mimport\u001B[39;00m \u001B[38;5;241m*\u001B[39m\n\u001B[1;32m      2\u001B[0m \u001B[38;5;28;01mimport\u001B[39;00m \u001B[38;5;21;01mnumpy\u001B[39;00m \u001B[38;5;28;01mas\u001B[39;00m \u001B[38;5;21;01mnp\u001B[39;00m\n\u001B[1;32m      4\u001B[0m \u001B[38;5;66;03m# To watch one of these scenes, run the following:\u001B[39;00m\n\u001B[1;32m      5\u001B[0m \u001B[38;5;66;03m# manimgl example_scenes.py OpeningManimExample\u001B[39;00m\n\u001B[1;32m      6\u001B[0m \u001B[38;5;66;03m# Use -s to skip to the end and just save the final frame\u001B[39;00m\n\u001B[1;32m      7\u001B[0m \u001B[38;5;66;03m# Use -w to write the animation to a file\u001B[39;00m\n\u001B[1;32m      8\u001B[0m \u001B[38;5;66;03m# Use -o to write it to a file and open it once done\u001B[39;00m\n\u001B[1;32m      9\u001B[0m \u001B[38;5;66;03m# Use -n <number> to skip ahead to the n'th animation of a scene.\u001B[39;00m\n",
      "\u001B[0;31mModuleNotFoundError\u001B[0m: No module named 'manimlib'"
     ]
    }
   ],
   "source": [
    "from manimlib import *\n",
    "import numpy as np\n",
    "\n",
    "# To watch one of these scenes, run the following:\n",
    "# manimgl example_scenes.py OpeningManimExample\n",
    "# Use -s to skip to the end and just save the final frame\n",
    "# Use -w to write the animation to a file\n",
    "# Use -o to write it to a file and open it once done\n",
    "# Use -n <number> to skip ahead to the n'th animation of a scene.\n",
    "\n",
    "\n",
    "class OpeningManimExample(Scene):\n",
    "    def construct(self):\n",
    "        intro_words = Text(\"\"\"\n",
    "            The original motivation for manim was to\n",
    "            better illustrate mathematical functions\n",
    "            as transformations.\n",
    "        \"\"\")\n",
    "        intro_words.to_edge(UP)\n",
    "\n",
    "        self.play(Write(intro_words))\n",
    "        self.wait(2)\n",
    "\n",
    "        # Linear transform\n",
    "        grid = NumberPlane((-10, 10), (-5, 5))\n",
    "        matrix = [[1, 1], [0, 1]]\n",
    "        linear_transform_words = VGroup(\n",
    "            Text(\"This is what the matrix\"),\n",
    "            IntegerMatrix(matrix),\n",
    "            Text(\"looks like\")\n",
    "        )\n",
    "        linear_transform_words.arrange(RIGHT)\n",
    "        linear_transform_words.to_edge(UP)\n",
    "        linear_transform_words.set_backstroke(width=5)\n",
    "\n",
    "        self.play(\n",
    "            ShowCreation(grid),\n",
    "            FadeTransform(intro_words, linear_transform_words)\n",
    "        )\n",
    "        self.wait()\n",
    "        self.play(grid.animate.apply_matrix(matrix), run_time=3)\n",
    "        self.wait()\n",
    "\n",
    "        # Complex map\n",
    "        c_grid = ComplexPlane()\n",
    "        moving_c_grid = c_grid.copy()\n",
    "        moving_c_grid.prepare_for_nonlinear_transform()\n",
    "        c_grid.set_stroke(BLUE_E, 1)\n",
    "        c_grid.add_coordinate_labels(font_size=24)\n",
    "        complex_map_words = TexText(\"\"\"\n",
    "            Or thinking of the plane as $\\\\mathds{C}$,\\\\\\\\\n",
    "            this is the map $z \\\\rightarrow z^2$\n",
    "        \"\"\")\n",
    "        complex_map_words.to_corner(UR)\n",
    "        complex_map_words.set_backstroke(width=5)\n",
    "\n",
    "        self.play(\n",
    "            FadeOut(grid),\n",
    "            Write(c_grid, run_time=3),\n",
    "            FadeIn(moving_c_grid),\n",
    "            FadeTransform(linear_transform_words, complex_map_words),\n",
    "        )\n",
    "        self.wait()\n",
    "        self.play(\n",
    "            moving_c_grid.animate.apply_complex_function(lambda z: z**2),\n",
    "            run_time=6,\n",
    "        )\n",
    "        self.wait(2)\n",
    "\n",
    "\n",
    "class AnimatingMethods(Scene):\n",
    "    def construct(self):\n",
    "        grid = Tex(R\"\\pi\").get_grid(10, 10, height=4)\n",
    "        self.add(grid)\n",
    "\n",
    "        # You can animate the application of mobject methods with the\n",
    "        # \".animate\" syntax:\n",
    "        self.play(grid.animate.shift(LEFT))\n",
    "\n",
    "        # Both of those will interpolate between the mobject's initial\n",
    "        # state and whatever happens when you apply that method.\n",
    "        # For this example, calling grid.shift(LEFT) would shift the\n",
    "        # grid one unit to the left, but both of the previous calls to\n",
    "        # \"self.play\" animate that motion.\n",
    "\n",
    "        # The same applies for any method, including those setting colors.\n",
    "        self.play(grid.animate.set_color(YELLOW))\n",
    "        self.wait()\n",
    "        self.play(grid.animate.set_submobject_colors_by_gradient(BLUE, GREEN))\n",
    "        self.wait()\n",
    "        self.play(grid.animate.set_height(TAU - MED_SMALL_BUFF))\n",
    "        self.wait()\n",
    "\n",
    "        # The method Mobject.apply_complex_function lets you apply arbitrary\n",
    "        # complex functions, treating the points defining the mobject as\n",
    "        # complex numbers.\n",
    "        self.play(grid.animate.apply_complex_function(np.exp), run_time=5)\n",
    "        self.wait()\n",
    "\n",
    "        # Even more generally, you could apply Mobject.apply_function,\n",
    "        # which takes in functions form R^3 to R^3\n",
    "        self.play(\n",
    "            grid.animate.apply_function(\n",
    "                lambda p: [\n",
    "                    p[0] + 0.5 * math.sin(p[1]),\n",
    "                    p[1] + 0.5 * math.sin(p[0]),\n",
    "                    p[2]\n",
    "                ]\n",
    "            ),\n",
    "            run_time=5,\n",
    "        )\n",
    "        self.wait()\n",
    "\n",
    "\n",
    "class TextExample(Scene):\n",
    "    def construct(self):\n",
    "        # To run this scene properly, you should have \"Consolas\" font in your computer\n",
    "        # for full usage, you can see https://github.com/3b1b/manim/pull/680\n",
    "        text = Text(\"Here is a text\", font=\"Consolas\", font_size=90)\n",
    "        difference = Text(\n",
    "            \"\"\"\n",
    "            The most important difference between Text and TexText is that\\n\n",
    "            you can change the font more easily, but can't use the LaTeX grammar\n",
    "            \"\"\",\n",
    "            font=\"Arial\", font_size=24,\n",
    "            # t2c is a dict that you can choose color for different text\n",
    "            t2c={\"Text\": BLUE, \"TexText\": BLUE, \"LaTeX\": ORANGE}\n",
    "        )\n",
    "        VGroup(text, difference).arrange(DOWN, buff=1)\n",
    "        self.play(Write(text))\n",
    "        self.play(FadeIn(difference, UP))\n",
    "        self.wait(3)\n",
    "\n",
    "        fonts = Text(\n",
    "            \"And you can also set the font according to different words\",\n",
    "            font=\"Arial\",\n",
    "            t2f={\"font\": \"Consolas\", \"words\": \"Consolas\"},\n",
    "            t2c={\"font\": BLUE, \"words\": GREEN}\n",
    "        )\n",
    "        fonts.set_width(FRAME_WIDTH - 1)\n",
    "        slant = Text(\n",
    "            \"And the same as slant and weight\",\n",
    "            font=\"Consolas\",\n",
    "            t2s={\"slant\": ITALIC},\n",
    "            t2w={\"weight\": BOLD},\n",
    "            t2c={\"slant\": ORANGE, \"weight\": RED}\n",
    "        )\n",
    "        VGroup(fonts, slant).arrange(DOWN, buff=0.8)\n",
    "        self.play(FadeOut(text), FadeOut(difference, shift=DOWN))\n",
    "        self.play(Write(fonts))\n",
    "        self.wait()\n",
    "        self.play(Write(slant))\n",
    "        self.wait()\n",
    "\n",
    "\n",
    "class TexTransformExample(Scene):\n",
    "    def construct(self):\n",
    "        # Tex to color map\n",
    "        t2c = {\n",
    "            \"A\": BLUE,\n",
    "            \"B\": TEAL,\n",
    "            \"C\": GREEN,\n",
    "        }\n",
    "        # Configuration to pass along to each Tex mobject\n",
    "        kw = dict(font_size=72, t2c=t2c)\n",
    "        lines = VGroup(\n",
    "            Tex(\"A^2 + B^2 = C^2\", **kw),\n",
    "            Tex(\"A^2 = C^2 - B^2\", **kw),\n",
    "            Tex(\"A^2 = (C + B)(C - B)\", **kw),\n",
    "            Tex(R\"A = \\sqrt{(C + B)(C - B)}\", **kw),\n",
    "        )\n",
    "        lines.arrange(DOWN, buff=LARGE_BUFF)\n",
    "\n",
    "        self.add(lines[0])\n",
    "        # The animation TransformMatchingStrings will line up parts\n",
    "        # of the source and target which have matching substring strings.\n",
    "        # Here, giving it a little path_arc makes each part rotate into\n",
    "        # their final positions, which feels appropriate for the idea of\n",
    "        # rearranging an equation\n",
    "        self.play(\n",
    "            TransformMatchingStrings(\n",
    "                lines[0].copy(), lines[1],\n",
    "                # matched_keys specifies which substring should\n",
    "                # line up. If it's not specified, the animation\n",
    "                # will align the longest matching substrings.\n",
    "                # In this case, the substring \"^2 = C^2\" would\n",
    "                # trip it up\n",
    "                matched_keys=[\"A^2\", \"B^2\", \"C^2\"],\n",
    "                # When you want a substring from the source\n",
    "                # to go to a non-equal substring from the target,\n",
    "                # use the key map.\n",
    "                key_map={\"+\": \"-\"},\n",
    "                path_arc=90 * DEGREES,\n",
    "            ),\n",
    "        )\n",
    "        self.wait()\n",
    "        self.play(TransformMatchingStrings(\n",
    "            lines[1].copy(), lines[2],\n",
    "            matched_keys=[\"A^2\"]\n",
    "        ))\n",
    "        self.wait()\n",
    "        self.play(\n",
    "            TransformMatchingStrings(\n",
    "                lines[2].copy(), lines[3],\n",
    "                key_map={\"2\": R\"\\sqrt\"},\n",
    "                path_arc=-30 * DEGREES,\n",
    "            ),\n",
    "        )\n",
    "        self.wait(2)\n",
    "        self.play(LaggedStartMap(FadeOut, lines, shift=2 * RIGHT))\n",
    "\n",
    "        # TransformMatchingShapes will try to line up all pieces of a\n",
    "        # source mobject with those of a target, regardless of the\n",
    "        # what Mobject type they are.\n",
    "        source = Text(\"the morse code\", height=1)\n",
    "        target = Text(\"here come dots\", height=1)\n",
    "        saved_source = source.copy()\n",
    "\n",
    "        self.play(Write(source))\n",
    "        self.wait()\n",
    "        kw = dict(run_time=3, path_arc=PI / 2)\n",
    "        self.play(TransformMatchingShapes(source, target, **kw))\n",
    "        self.wait()\n",
    "        self.play(TransformMatchingShapes(target, saved_source, **kw))\n",
    "        self.wait()\n",
    "\n",
    "\n",
    "class TexIndexing(Scene):\n",
    "    def construct(self):\n",
    "        # You can index into Tex mobject (or other StringMobjects) by substrings\n",
    "        equation = Tex(R\"e^{\\pi i} = -1\", font_size=144)\n",
    "\n",
    "        self.add(equation)\n",
    "        self.play(FlashAround(equation[\"e\"]))\n",
    "        self.wait()\n",
    "        self.play(Indicate(equation[R\"\\pi\"]))\n",
    "        self.wait()\n",
    "        self.play(TransformFromCopy(\n",
    "            equation[R\"e^{\\pi i}\"].copy().set_opacity(0.5),\n",
    "            equation[\"-1\"],\n",
    "            path_arc=-PI / 2,\n",
    "            run_time=3\n",
    "        ))\n",
    "        self.play(FadeOut(equation))\n",
    "\n",
    "        # Or regular expressions\n",
    "        equation = Tex(\"A^2 + B^2 = C^2\", font_size=144)\n",
    "\n",
    "        self.play(Write(equation))\n",
    "        for part in equation[re.compile(r\"\\w\\^2\")]:\n",
    "            self.play(FlashAround(part))\n",
    "        self.wait()\n",
    "        self.play(FadeOut(equation))\n",
    "\n",
    "        # Indexing by substrings like this may not work when\n",
    "        # the order in which Latex draws symbols does not match\n",
    "        # the order in which they show up in the string.\n",
    "        # For example, here the infinity is drawn before the sigma\n",
    "        # so we don't get the desired behavior.\n",
    "        equation = Tex(R\"\\sum_{n = 1}^\\infty \\frac{1}{n^2} = \\frac{\\pi^2}{6}\", font_size=72)\n",
    "        self.play(FadeIn(equation))\n",
    "        self.play(equation[R\"\\infty\"].animate.set_color(RED))  # Doesn't hit the infinity\n",
    "        self.wait()\n",
    "        self.play(FadeOut(equation))\n",
    "\n",
    "        # However you can always fix this by explicitly passing in\n",
    "        # a string you might want to isolate later. Also, using\n",
    "        # \\over instead of \\frac helps to avoid the issue for fractions\n",
    "        equation = Tex(\n",
    "            R\"\\sum_{n = 1}^\\infty {1 \\over n^2} = {\\pi^2 \\over 6}\",\n",
    "            # Explicitly mark \"\\infty\" as a substring you might want to access\n",
    "            isolate=[R\"\\infty\"],\n",
    "            font_size=72\n",
    "        )\n",
    "        self.play(FadeIn(equation))\n",
    "        self.play(equation[R\"\\infty\"].animate.set_color(RED))  # Got it!\n",
    "        self.wait()\n",
    "        self.play(FadeOut(equation))\n",
    "\n",
    "\n",
    "class UpdatersExample(Scene):\n",
    "    def construct(self):\n",
    "        square = Square()\n",
    "        square.set_fill(BLUE_E, 1)\n",
    "\n",
    "        # On all frames, the constructor Brace(square, UP) will\n",
    "        # be called, and the mobject brace will set its data to match\n",
    "        # that of the newly constructed object\n",
    "        brace = always_redraw(Brace, square, UP)\n",
    "\n",
    "        label = TexText(\"Width = 0.00\")\n",
    "        number = label.make_number_changable(\"0.00\")\n",
    "\n",
    "        # This ensures that the method deicmal.next_to(square)\n",
    "        # is called on every frame\n",
    "        label.always.next_to(brace, UP)\n",
    "        # You could also write the following equivalent line\n",
    "        # label.add_updater(lambda m: m.next_to(brace, UP))\n",
    "\n",
    "        # If the argument itself might change, you can use f_always,\n",
    "        # for which the arguments following the initial Mobject method\n",
    "        # should be functions returning arguments to that method.\n",
    "        # The following line ensures thst decimal.set_value(square.get_y())\n",
    "        # is called every frame\n",
    "        number.f_always.set_value(square.get_width)\n",
    "        # You could also write the following equivalent line\n",
    "        # number.add_updater(lambda m: m.set_value(square.get_width()))\n",
    "\n",
    "        self.add(square, brace, label)\n",
    "\n",
    "        # Notice that the brace and label track with the square\n",
    "        self.play(\n",
    "            square.animate.scale(2),\n",
    "            rate_func=there_and_back,\n",
    "            run_time=2,\n",
    "        )\n",
    "        self.wait()\n",
    "        self.play(\n",
    "            square.animate.set_width(5, stretch=True),\n",
    "            run_time=3,\n",
    "        )\n",
    "        self.wait()\n",
    "        self.play(\n",
    "            square.animate.set_width(2),\n",
    "            run_time=3\n",
    "        )\n",
    "        self.wait()\n",
    "\n",
    "        # In general, you can alway call Mobject.add_updater, and pass in\n",
    "        # a function that you want to be called on every frame.  The function\n",
    "        # should take in either one argument, the mobject, or two arguments,\n",
    "        # the mobject and the amount of time since the last frame.\n",
    "        now = self.time\n",
    "        w0 = square.get_width()\n",
    "        square.add_updater(\n",
    "            lambda m: m.set_width(w0 * math.sin(self.time - now) + w0)\n",
    "        )\n",
    "        self.wait(4 * PI)\n",
    "\n",
    "\n",
    "class CoordinateSystemExample(Scene):\n",
    "    def construct(self):\n",
    "        axes = Axes(\n",
    "            # x-axis ranges from -1 to 10, with a default step size of 1\n",
    "            x_range=(-1, 10),\n",
    "            # y-axis ranges from -2 to 2 with a step size of 0.5\n",
    "            y_range=(-2, 2, 0.5),\n",
    "            # The axes will be stretched so as to match the specified\n",
    "            # height and width\n",
    "            height=6,\n",
    "            width=10,\n",
    "            # Axes is made of two NumberLine mobjects.  You can specify\n",
    "            # their configuration with axis_config\n",
    "            axis_config=dict(\n",
    "                stroke_color=GREY_A,\n",
    "                stroke_width=2,\n",
    "                numbers_to_exclude=[0],\n",
    "            ),\n",
    "            # Alternatively, you can specify configuration for just one\n",
    "            # of them, like this.\n",
    "            y_axis_config=dict(\n",
    "                big_tick_numbers=[-2, 2],\n",
    "            )\n",
    "        )\n",
    "        # Keyword arguments of add_coordinate_labels can be used to\n",
    "        # configure the DecimalNumber mobjects which it creates and\n",
    "        # adds to the axes\n",
    "        axes.add_coordinate_labels(\n",
    "            font_size=20,\n",
    "            num_decimal_places=1,\n",
    "        )\n",
    "        self.add(axes)\n",
    "\n",
    "        # Axes descends from the CoordinateSystem class, meaning\n",
    "        # you can call call axes.coords_to_point, abbreviated to\n",
    "        # axes.c2p, to associate a set of coordinates with a point,\n",
    "        # like so:\n",
    "        dot = Dot(color=RED)\n",
    "        dot.move_to(axes.c2p(0, 0))\n",
    "        self.play(FadeIn(dot, scale=0.5))\n",
    "        self.play(dot.animate.move_to(axes.c2p(3, 2)))\n",
    "        self.wait()\n",
    "        self.play(dot.animate.move_to(axes.c2p(5, 0.5)))\n",
    "        self.wait()\n",
    "\n",
    "        # Similarly, you can call axes.point_to_coords, or axes.p2c\n",
    "        # print(axes.p2c(dot.get_center()))\n",
    "\n",
    "        # We can draw lines from the axes to better mark the coordinates\n",
    "        # of a given point.\n",
    "        # Here, the always_redraw command means that on each new frame\n",
    "        # the lines will be redrawn\n",
    "        h_line = always_redraw(lambda: axes.get_h_line(dot.get_left()))\n",
    "        v_line = always_redraw(lambda: axes.get_v_line(dot.get_bottom()))\n",
    "\n",
    "        self.play(\n",
    "            ShowCreation(h_line),\n",
    "            ShowCreation(v_line),\n",
    "        )\n",
    "        self.play(dot.animate.move_to(axes.c2p(3, -2)))\n",
    "        self.wait()\n",
    "        self.play(dot.animate.move_to(axes.c2p(1, 1)))\n",
    "        self.wait()\n",
    "\n",
    "        # If we tie the dot to a particular set of coordinates, notice\n",
    "        # that as we move the axes around it respects the coordinate\n",
    "        # system defined by them.\n",
    "        f_always(dot.move_to, lambda: axes.c2p(1, 1))\n",
    "        self.play(\n",
    "            axes.animate.scale(0.75).to_corner(UL),\n",
    "            run_time=2,\n",
    "        )\n",
    "        self.wait()\n",
    "        self.play(FadeOut(VGroup(axes, dot, h_line, v_line)))\n",
    "\n",
    "        # Other coordinate systems you can play around with include\n",
    "        # ThreeDAxes, NumberPlane, and ComplexPlane.\n",
    "\n",
    "\n",
    "class GraphExample(Scene):\n",
    "    def construct(self):\n",
    "        axes = Axes((-3, 10), (-1, 8), height=6)\n",
    "        axes.add_coordinate_labels()\n",
    "\n",
    "        self.play(Write(axes, lag_ratio=0.01, run_time=1))\n",
    "\n",
    "        # Axes.get_graph will return the graph of a function\n",
    "        sin_graph = axes.get_graph(\n",
    "            lambda x: 2 * math.sin(x),\n",
    "            color=BLUE,\n",
    "        )\n",
    "        # By default, it draws it so as to somewhat smoothly interpolate\n",
    "        # between sampled points (x, f(x)).  If the graph is meant to have\n",
    "        # a corner, though, you can set use_smoothing to False\n",
    "        relu_graph = axes.get_graph(\n",
    "            lambda x: max(x, 0),\n",
    "            use_smoothing=False,\n",
    "            color=YELLOW,\n",
    "        )\n",
    "        # For discontinuous functions, you can specify the point of\n",
    "        # discontinuity so that it does not try to draw over the gap.\n",
    "        step_graph = axes.get_graph(\n",
    "            lambda x: 2.0 if x > 3 else 1.0,\n",
    "            discontinuities=[3],\n",
    "            color=GREEN,\n",
    "        )\n",
    "\n",
    "        # Axes.get_graph_label takes in either a string or a mobject.\n",
    "        # If it's a string, it treats it as a LaTeX expression.  By default\n",
    "        # it places the label next to the graph near the right side, and\n",
    "        # has it match the color of the graph\n",
    "        sin_label = axes.get_graph_label(sin_graph, \"\\\\sin(x)\")\n",
    "        relu_label = axes.get_graph_label(relu_graph, Text(\"ReLU\"))\n",
    "        step_label = axes.get_graph_label(step_graph, Text(\"Step\"), x=4)\n",
    "\n",
    "        self.play(\n",
    "            ShowCreation(sin_graph),\n",
    "            FadeIn(sin_label, RIGHT),\n",
    "        )\n",
    "        self.wait(2)\n",
    "        self.play(\n",
    "            ReplacementTransform(sin_graph, relu_graph),\n",
    "            FadeTransform(sin_label, relu_label),\n",
    "        )\n",
    "        self.wait()\n",
    "        self.play(\n",
    "            ReplacementTransform(relu_graph, step_graph),\n",
    "            FadeTransform(relu_label, step_label),\n",
    "        )\n",
    "        self.wait()\n",
    "\n",
    "        parabola = axes.get_graph(lambda x: 0.25 * x**2)\n",
    "        parabola.set_stroke(BLUE)\n",
    "        self.play(\n",
    "            FadeOut(step_graph),\n",
    "            FadeOut(step_label),\n",
    "            ShowCreation(parabola)\n",
    "        )\n",
    "        self.wait()\n",
    "\n",
    "        # You can use axes.input_to_graph_point, abbreviated\n",
    "        # to axes.i2gp, to find a particular point on a graph\n",
    "        dot = Dot(color=RED)\n",
    "        dot.move_to(axes.i2gp(2, parabola))\n",
    "        self.play(FadeIn(dot, scale=0.5))\n",
    "\n",
    "        # A value tracker lets us animate a parameter, usually\n",
    "        # with the intent of having other mobjects update based\n",
    "        # on the parameter\n",
    "        x_tracker = ValueTracker(2)\n",
    "        f_always(\n",
    "            dot.move_to,\n",
    "            lambda: axes.i2gp(x_tracker.get_value(), parabola)\n",
    "        )\n",
    "\n",
    "        self.play(x_tracker.animate.set_value(4), run_time=3)\n",
    "        self.play(x_tracker.animate.set_value(-2), run_time=3)\n",
    "        self.wait()\n",
    "\n",
    "\n",
    "class TexAndNumbersExample(Scene):\n",
    "    def construct(self):\n",
    "        axes = Axes((-3, 3), (-3, 3), unit_size=1)\n",
    "        axes.to_edge(DOWN)\n",
    "        axes.add_coordinate_labels(font_size=16)\n",
    "        circle = Circle(radius=2)\n",
    "        circle.set_stroke(YELLOW, 3)\n",
    "        circle.move_to(axes.get_origin())\n",
    "        self.add(axes, circle)\n",
    "\n",
    "        # When numbers show up in tex, they can be readily\n",
    "        # replaced with DecimalMobjects so that methods like\n",
    "        # get_value and set_value can be called on them, and\n",
    "        # animations like ChangeDecimalToValue can be called\n",
    "        # on them.\n",
    "        tex = Tex(\"x^2 + y^2 = 4.00\")\n",
    "        tex.next_to(axes, UP, buff=0.5)\n",
    "        value = tex.make_number_changable(\"4.00\")\n",
    "\n",
    "\n",
    "        # This will tie the right hand side of our equation to\n",
    "        # the square of the radius of the circle\n",
    "        value.add_updater(lambda v: v.set_value(circle.get_radius()**2))\n",
    "        self.add(tex)\n",
    "\n",
    "        text = Text(\"\"\"\n",
    "            You can manipulate numbers\n",
    "            in Tex mobjects\n",
    "        \"\"\", font_size=30)\n",
    "        text.next_to(tex, RIGHT, buff=1.5)\n",
    "        arrow = Arrow(text, tex)\n",
    "        self.add(text, arrow)\n",
    "\n",
    "        self.play(\n",
    "            circle.animate.set_height(2.0),\n",
    "            run_time=4,\n",
    "            rate_func=there_and_back,\n",
    "        )\n",
    "\n",
    "        # By default, tex.make_number_changable replaces the first occurance\n",
    "        # of the number,but by passing replace_all=True it replaces all and\n",
    "        # returns a group of the results\n",
    "        exponents = tex.make_number_changable(\"2\", replace_all=True)\n",
    "        self.play(\n",
    "            LaggedStartMap(\n",
    "                FlashAround, exponents,\n",
    "                lag_ratio=0.2, buff=0.1, color=RED\n",
    "            ),\n",
    "            exponents.animate.set_color(RED)\n",
    "        )\n",
    "\n",
    "        def func(x, y):\n",
    "            # Switch from manim coords to axes coords\n",
    "            xa, ya = axes.point_to_coords(np.array([x, y, 0]))\n",
    "            return xa**4 + ya**4 - 4\n",
    "\n",
    "        new_curve = ImplicitFunction(func)\n",
    "        new_curve.match_style(circle)\n",
    "        circle.rotate(angle_of_vector(new_curve.get_start()))  # Align\n",
    "        value.clear_updaters()\n",
    "\n",
    "        self.play(\n",
    "            *(ChangeDecimalToValue(exp, 4) for exp in exponents),\n",
    "            ReplacementTransform(circle.copy(), new_curve),\n",
    "            circle.animate.set_stroke(width=1, opacity=0.5),\n",
    "        )\n",
    "\n",
    "\n",
    "class SurfaceExample(ThreeDScene):\n",
    "    def construct(self):\n",
    "        surface_text = Text(\"For 3d scenes, try using surfaces\")\n",
    "        surface_text.fix_in_frame()\n",
    "        surface_text.to_edge(UP)\n",
    "        self.add(surface_text)\n",
    "        self.wait(0.1)\n",
    "\n",
    "        torus1 = Torus(r1=1, r2=1)\n",
    "        torus2 = Torus(r1=3, r2=1)\n",
    "        sphere = Sphere(radius=3, resolution=torus1.resolution)\n",
    "        # You can texture a surface with up to two images, which will\n",
    "        # be interpreted as the side towards the light, and away from\n",
    "        # the light.  These can be either urls, or paths to a local file\n",
    "        # in whatever you've set as the image directory in\n",
    "        # the custom_config.yml file\n",
    "\n",
    "        # day_texture = \"EarthTextureMap\"\n",
    "        # night_texture = \"NightEarthTextureMap\"\n",
    "        day_texture = \"https://upload.wikimedia.org/wikipedia/commons/thumb/4/4d/Whole_world_-_land_and_oceans.jpg/1280px-Whole_world_-_land_and_oceans.jpg\"\n",
    "        night_texture = \"https://upload.wikimedia.org/wikipedia/commons/thumb/b/ba/The_earth_at_night.jpg/1280px-The_earth_at_night.jpg\"\n",
    "\n",
    "        surfaces = [\n",
    "            TexturedSurface(surface, day_texture, night_texture)\n",
    "            for surface in [sphere, torus1, torus2]\n",
    "        ]\n",
    "\n",
    "        for mob in surfaces:\n",
    "            mob.shift(IN)\n",
    "            mob.mesh = SurfaceMesh(mob)\n",
    "            mob.mesh.set_stroke(BLUE, 1, opacity=0.5)\n",
    "\n",
    "        surface = surfaces[0]\n",
    "\n",
    "        self.play(\n",
    "            FadeIn(surface),\n",
    "            ShowCreation(surface.mesh, lag_ratio=0.01, run_time=3),\n",
    "        )\n",
    "        for mob in surfaces:\n",
    "            mob.add(mob.mesh)\n",
    "        surface.save_state()\n",
    "        self.play(Rotate(surface, PI / 2), run_time=2)\n",
    "        for mob in surfaces[1:]:\n",
    "            mob.rotate(PI / 2)\n",
    "\n",
    "        self.play(\n",
    "            Transform(surface, surfaces[1]),\n",
    "            run_time=3\n",
    "        )\n",
    "\n",
    "        self.play(\n",
    "            Transform(surface, surfaces[2]),\n",
    "            # Move camera frame during the transition\n",
    "            self.frame.animate.increment_phi(-10 * DEGREES),\n",
    "            self.frame.animate.increment_theta(-20 * DEGREES),\n",
    "            run_time=3\n",
    "        )\n",
    "        # Add ambient rotation\n",
    "        self.frame.add_updater(lambda m, dt: m.increment_theta(-0.1 * dt))\n",
    "\n",
    "        # Play around with where the light is\n",
    "        light_text = Text(\"You can move around the light source\")\n",
    "        light_text.move_to(surface_text)\n",
    "        light_text.fix_in_frame()\n",
    "\n",
    "        self.play(FadeTransform(surface_text, light_text))\n",
    "        light = self.camera.light_source\n",
    "        self.add(light)\n",
    "        light.save_state()\n",
    "        self.play(light.animate.move_to(3 * IN), run_time=5)\n",
    "        self.play(light.animate.shift(10 * OUT), run_time=5)\n",
    "\n",
    "        drag_text = Text(\"Try moving the mouse while pressing d or f\")\n",
    "        drag_text.move_to(light_text)\n",
    "        drag_text.fix_in_frame()\n",
    "\n",
    "        self.play(FadeTransform(light_text, drag_text))\n",
    "        self.wait()\n",
    "\n",
    "\n",
    "class InteractiveDevelopment(Scene):\n",
    "    def construct(self):\n",
    "        circle = Circle()\n",
    "        circle.set_fill(BLUE, opacity=0.5)\n",
    "        circle.set_stroke(BLUE_E, width=4)\n",
    "        square = Square()\n",
    "\n",
    "        self.play(ShowCreation(square))\n",
    "        self.wait()\n",
    "\n",
    "        # This opens an iPython terminal where you can keep writing\n",
    "        # lines as if they were part of this construct method.\n",
    "        # In particular, 'square', 'circle' and 'self' will all be\n",
    "        # part of the local namespace in that terminal.\n",
    "        self.embed()\n",
    "\n",
    "        # Try copying and pasting some of the lines below into\n",
    "        # the interactive shell\n",
    "        self.play(ReplacementTransform(square, circle))\n",
    "        self.wait()\n",
    "        self.play(circle.animate.stretch(4, 0))\n",
    "        self.play(Rotate(circle, 90 * DEGREES))\n",
    "        self.play(circle.animate.shift(2 * RIGHT).scale(0.25))\n",
    "\n",
    "        text = Text(\"\"\"\n",
    "            In general, using the interactive shell\n",
    "            is very helpful when developing new scenes\n",
    "        \"\"\")\n",
    "        self.play(Write(text))\n",
    "\n",
    "        # In the interactive shell, you can just type\n",
    "        # play, add, remove, clear, wait, save_state and restore,\n",
    "        # instead of self.play, self.add, self.remove, etc.\n",
    "\n",
    "        # To interact with the window, type touch().  You can then\n",
    "        # scroll in the window, or zoom by holding down 'z' while scrolling,\n",
    "        # and change camera perspective by holding down 'd' while moving\n",
    "        # the mouse.  Press 'r' to reset to the standard camera position.\n",
    "        # Press 'q' to stop interacting with the window and go back to\n",
    "        # typing new commands into the shell.\n",
    "\n",
    "        # In principle you can customize a scene to be responsive to\n",
    "        # mouse and keyboard interactions\n",
    "        always(circle.move_to, self.mouse_point)\n",
    "\n",
    "\n",
    "class ControlsExample(Scene):\n",
    "    drag_to_pan = False\n",
    "\n",
    "    def setup(self):\n",
    "        self.textbox = Textbox()\n",
    "        self.checkbox = Checkbox()\n",
    "        self.color_picker = ColorSliders()\n",
    "        self.panel = ControlPanel(\n",
    "            Text(\"Text\", font_size=24), self.textbox, Line(),\n",
    "            Text(\"Show/Hide Text\", font_size=24), self.checkbox, Line(),\n",
    "            Text(\"Color of Text\", font_size=24), self.color_picker\n",
    "        )\n",
    "        self.add(self.panel)\n",
    "\n",
    "    def construct(self):\n",
    "        text = Text(\"text\", font_size=96)\n",
    "\n",
    "        def text_updater(old_text):\n",
    "            assert(isinstance(old_text, Text))\n",
    "            new_text = Text(self.textbox.get_value(), font_size=old_text.font_size)\n",
    "            # new_text.align_data_and_family(old_text)\n",
    "            new_text.move_to(old_text)\n",
    "            if self.checkbox.get_value():\n",
    "                new_text.set_fill(\n",
    "                    color=self.color_picker.get_picked_color(),\n",
    "                    opacity=self.color_picker.get_picked_opacity()\n",
    "                )\n",
    "            else:\n",
    "                new_text.set_opacity(0)\n",
    "            old_text.become(new_text)\n",
    "\n",
    "        text.add_updater(text_updater)\n",
    "\n",
    "        self.add(MotionMobject(text))\n",
    "\n",
    "        self.textbox.set_value(\"Manim\")\n",
    "        # self.wait(60)\n",
    "        # self.embed()\n",
    "\n",
    "\n"
   ]
  },
  {
   "cell_type": "code",
   "execution_count": 17,
   "id": "da509188-a953-4c5c-a21c-18dbcc720d7a",
   "metadata": {},
   "outputs": [
    {
     "data": {
      "text/html": [
       "<pre style=\"white-space:pre;overflow-x:auto;line-height:normal;font-family:Menlo,'DejaVu Sans Mono',consolas,'Courier New',monospace\">Manim Community <span style=\"color: #008000; text-decoration-color: #008000\">v0.18.1</span>\n",
       "\n",
       "</pre>\n"
      ],
      "text/plain": [
       "Manim Community \u001B[32mv0.\u001B[0m\u001B[32m18.1\u001B[0m\n",
       "\n"
      ]
     },
     "metadata": {},
     "output_type": "display_data"
    },
    {
     "name": "stderr",
     "output_type": "stream",
     "text": [
      "                                                                                         \r"
     ]
    },
    {
     "data": {
      "text/html": [
       "<video src=\"media/jupyter/DrawLineOnGrid@2024-06-19@10-50-31.mp4\" controls autoplay loop style=\"max-width: 75%;\"  >\n",
       "      Your browser does not support the <code>video</code> element.\n",
       "    </video>"
      ],
      "text/plain": [
       "<IPython.core.display.Video object>"
      ]
     },
     "metadata": {},
     "output_type": "display_data"
    }
   ],
   "source": [
    "%%manim -qm DrawLineOnGrid\n",
    "\n",
    "\n",
    "class DrawLineOnGrid(Scene):\n",
    "    def construct(self):\n",
    "        # Create a grid\n",
    "        grid = NumberPlane(\n",
    "            x_range=(-1, 2, 0.2), \n",
    "            y_range=(-1, 1, 0.2), \n",
    "            background_line_style={\"stroke_color\": BLUE_D, \"stroke_width\": 1}\n",
    "        )\n",
    "        \n",
    "        # Add labels for the axes\n",
    "        x_label = grid.get_x_axis_label(Tex(\"x\"))\n",
    "        y_label = grid.get_y_axis_label(Tex(\"y\"))\n",
    "\n",
    "\n",
    "        # Create two points\n",
    "        point1 = Dot(point=grid.c2p(0, 0), color=RED)\n",
    "        point2 = Dot(point=grid.c2p(1, 0), color=RED)\n",
    "\n",
    "        # Create smaller text for the labels\n",
    "        label1 = Text(\"(0, 0)\", font_size=24).next_to(point1, DOWN)\n",
    "        label2 = Text(\"(1, 0)\", font_size=24).next_to(point2, DOWN)\n",
    "\n",
    "\n",
    "        # Create a line between the two points\n",
    "        line = Line(start=point1.get_center(), end=point2.get_center(), color=BLUE)\n",
    "\n",
    "        # Add the grid and axis labels to the scene\n",
    "        self.add(grid, x_label, y_label)\n",
    "        \n",
    "        # Add points and their labels to the scene\n",
    "        self.play(GrowFromCenter(point1), GrowFromCenter(point2))\n",
    "        self.play(Write(label1), Write(label2))\n",
    "\n",
    "        # Draw the line between the points\n",
    "        self.play(Create(line))\n",
    "\n",
    "        # Wait for a moment to see the final scene\n",
    "        self.wait(2)\n",
    "\n",
    "# To render the scene, you can use the following command in your terminal:\n",
    "# manim -pql draw_line_on_grid.py DrawLineOnGrid\n",
    "\n",
    "\n",
    "\n",
    "\n"
   ]
  },
  {
   "cell_type": "code",
   "execution_count": 19,
   "id": "41fa5da0-0b69-48de-ae79-2af5dc58903b",
   "metadata": {},
   "outputs": [
    {
     "data": {
      "text/html": [
       "<pre style=\"white-space:pre;overflow-x:auto;line-height:normal;font-family:Menlo,'DejaVu Sans Mono',consolas,'Courier New',monospace\">Manim Community <span style=\"color: #008000; text-decoration-color: #008000\">v0.18.1</span>\n",
       "\n",
       "</pre>\n"
      ],
      "text/plain": [
       "Manim Community \u001B[32mv0.\u001B[0m\u001B[32m18.1\u001B[0m\n",
       "\n"
      ]
     },
     "metadata": {},
     "output_type": "display_data"
    },
    {
     "name": "stderr",
     "output_type": "stream",
     "text": [
      "                                                                                               \r"
     ]
    },
    {
     "data": {
      "text/html": [
       "<video src=\"media/jupyter/DrawLineOnGrid@2024-06-19@10-55-29.mp4\" controls autoplay loop style=\"max-width: 75%;\"  >\n",
       "      Your browser does not support the <code>video</code> element.\n",
       "    </video>"
      ],
      "text/plain": [
       "<IPython.core.display.Video object>"
      ]
     },
     "metadata": {},
     "output_type": "display_data"
    }
   ],
   "source": [
    "%%manim -qm DrawLineOnGrid\n",
    "\n",
    "class DrawLineOnGrid(MovingCameraScene):\n",
    "    def construct(self):\n",
    "        self.camera.frame.save_state()\n",
    "\n",
    "        # Create axes\n",
    "        ax = Axes(\n",
    "            x_range=[-1, 2, 0.2], \n",
    "            y_range=[-1, 1, 0.2], \n",
    "            axis_config={\"include_numbers\": False}\n",
    "        )\n",
    "        # Add axis labels\n",
    "        x_label = ax.get_x_axis_label(Tex(\"x\"))\n",
    "        y_label = ax.get_y_axis_label(Tex(\"y\"))\n",
    "\n",
    "        # Create two points\n",
    "        point1 = Dot(ax.c2p(0, 0), color=RED)\n",
    "        point2 = Dot(ax.c2p(1, 0), color=RED)\n",
    "\n",
    "        # Create smaller text for the labels\n",
    "        label1 = Text(\"(0, 0)\", font_size=24).next_to(point1, DOWN)\n",
    "        label2 = Text(\"(1, 0)\", font_size=24).next_to(point2, DOWN)\n",
    "\n",
    "        # Create a blue line between the two points\n",
    "        line = Line(start=point1.get_center(), end=point2.get_center(), color=BLUE)\n",
    "\n",
    "        # Add the axes and axis labels to the scene\n",
    "        self.add(ax, x_label, y_label)\n",
    "\n",
    "        # Add points and their labels to the scene\n",
    "        self.play(GrowFromCenter(point1), GrowFromCenter(point2))\n",
    "        self.play(Write(label1), Write(label2))\n",
    "\n",
    "        # Wait for a moment to see the points\n",
    "        self.wait(2)\n",
    "\n",
    "        # Zoom in on the line\n",
    "        self.play(self.camera.frame.animate.scale(0.5).move_to(line.get_center()))\n",
    "\n",
    "        # Draw the line between the points while zoomed in\n",
    "        self.play(Create(line))\n",
    "\n",
    "        # Wait for a moment to see the final scene\n",
    "        self.wait(2)\n",
    "\n",
    "        # Restore the original frame\n",
    "        self.play(Restore(self.camera.frame))\n",
    "        self.wait(2)\n",
    "\n",
    "\n"
   ]
  },
  {
   "cell_type": "code",
   "execution_count": 30,
   "id": "79aa464e-1a1d-424f-bac6-22fcf3256e4a",
   "metadata": {},
   "outputs": [
    {
     "data": {
      "text/html": [
       "<pre style=\"white-space:pre;overflow-x:auto;line-height:normal;font-family:Menlo,'DejaVu Sans Mono',consolas,'Courier New',monospace\">Manim Community <span style=\"color: #008000; text-decoration-color: #008000\">v0.18.1</span>\n",
       "\n",
       "</pre>\n"
      ],
      "text/plain": [
       "Manim Community \u001B[32mv0.\u001B[0m\u001B[32m18.1\u001B[0m\n",
       "\n"
      ]
     },
     "metadata": {},
     "output_type": "display_data"
    },
    {
     "name": "stderr",
     "output_type": "stream",
     "text": [
      "                                                                                           \r"
     ]
    },
    {
     "data": {
      "text/html": [
       "<video src=\"media/jupyter/PluckStringAnimation@2024-06-19@11-20-34.mp4\" controls autoplay loop style=\"max-width: 75%;\"  >\n",
       "      Your browser does not support the <code>video</code> element.\n",
       "    </video>"
      ],
      "text/plain": [
       "<IPython.core.display.Video object>"
      ]
     },
     "metadata": {},
     "output_type": "display_data"
    }
   ],
   "source": [
    "%%manim -qm PluckStringAnimation\n",
    "\n",
    "import numpy as np\n",
    "from manim import *\n",
    "\n",
    "class PluckStringAnimation(MovingCameraScene):\n",
    "    def construct(self):\n",
    "        self.camera.frame.save_state()\n",
    "\n",
    "        # Create axes\n",
    "        ax = Axes(\n",
    "            x_range=[-1, 2, 0.2], \n",
    "            y_range=[-1, 1, 0.2], \n",
    "            axis_config={\"include_numbers\": False}\n",
    "        )\n",
    "        # Add axis labels\n",
    "        x_label = ax.get_x_axis_label(Tex(\"x\"))\n",
    "        y_label = ax.get_y_axis_label(Tex(\"y\"))\n",
    "\n",
    "        # Create two points\n",
    "        point1 = Dot(ax.c2p(0, 0), color=RED)\n",
    "        point2 = Dot(ax.c2p(1, 0), color=RED)\n",
    "\n",
    "        # Create smaller text for the labels\n",
    "        label1 = Text(\"(0, 0)\", font_size=24).next_to(point1, DOWN)\n",
    "        label2 = Text(\"(1, 0)\", font_size=24).next_to(point2, DOWN)\n",
    "\n",
    "        # Create a straight line between the two points\n",
    "        straight_line = Line(start=point1.get_center(), end=point2.get_center(), color=BLUE)\n",
    "\n",
    "        # Create a curved line to represent the plucked string\n",
    "        def plucked_string_func(x):\n",
    "            return 0.4 * np.sin(np.pi * x)\n",
    "\n",
    "        plucked_string = ax.plot(plucked_string_func, color=BLUE, x_range=[0, 1])\n",
    "\n",
    "        # Add the axes, points, labels, and straight line to the scene\n",
    "        self.add(ax, x_label, y_label, point1, point2, label1, label2, straight_line)\n",
    "\n",
    "        # Transition to the plucked string\n",
    "        self.play(Transform(straight_line, plucked_string))\n",
    "        \n",
    "        # Animate the plucked string vibrating\n",
    "        vibrating_string = plucked_string.copy()\n",
    "        def update_string(mob, dt):\n",
    "            mob.become(ax.plot(lambda x: 0.4 * np.sin(np.pi * x) * np.cos(2 * self.renderer.time), color=BLUE, x_range=[0, 1]))\n",
    "\n",
    "        vibrating_string.add_updater(update_string)\n",
    "        \n",
    "        # Replace the original plucked string with the vibrating string\n",
    "        self.remove(straight_line)\n",
    "        self.play(Transform(plucked_string, vibrating_string))\n",
    "        self.remove(plucked_string)\n",
    "        self.add(vibrating_string)\n",
    "        \n",
    "        # Wait for the vibration animation\n",
    "        self.wait(4)\n",
    "\n",
    "        # Restore the original frame\n",
    "        self.play(Restore(self.camera.frame))\n",
    "        self.wait(2)\n"
   ]
  },
  {
   "cell_type": "code",
   "execution_count": null,
   "id": "cad61939-450d-419c-92d9-10f22f02387e",
   "metadata": {},
   "outputs": [
    {
     "data": {
      "text/html": [
       "<pre style=\"white-space:pre;overflow-x:auto;line-height:normal;font-family:Menlo,'DejaVu Sans Mono',consolas,'Courier New',monospace\">Manim Community <span style=\"color: #008000; text-decoration-color: #008000\">v0.18.1</span>\n",
       "\n",
       "</pre>\n"
      ],
      "text/plain": [
       "Manim Community \u001B[32mv0.\u001B[0m\u001B[32m18.1\u001B[0m\n",
       "\n"
      ]
     },
     "metadata": {},
     "output_type": "display_data"
    },
    {
     "name": "stderr",
     "output_type": "stream",
     "text": [
      "Waiting 2:  88%|████████▊ | 105/120 [00:09<00:01, 10.06it/s]                               "
     ]
    }
   ],
   "source": [
    "%%manim -qm PluckStringAnimation\n",
    "\n",
    "import numpy as np\n",
    "from manim import *\n",
    "\n",
    "class PluckStringAnimation(MovingCameraScene):\n",
    "    def construct(self):\n",
    "        self.camera.frame.save_state()\n",
    "\n",
    "        # Create axes\n",
    "        ax = Axes(\n",
    "            x_range=[-1, 2, 0.2], \n",
    "            y_range=[-1, 1, 0.2], \n",
    "            axis_config={\"include_numbers\": False}\n",
    "        )\n",
    "        # Add axis labels\n",
    "        x_label = ax.get_x_axis_label(Tex(\"x\"))\n",
    "        y_label = ax.get_y_axis_label(Tex(\"y\"))\n",
    "\n",
    "        # Create two points\n",
    "        point1 = Dot(ax.c2p(0, 0), color=RED)\n",
    "        point2 = Dot(ax.c2p(1, 0), color=RED)\n",
    "\n",
    "        # Create smaller text for the labels\n",
    "        label1 = Text(\"(0, 0)\", font_size=24).next_to(point1, DOWN)\n",
    "        label2 = Text(\"(1, 0)\", font_size=24).next_to(point2, DOWN)\n",
    "\n",
    "        # Create a straight line between the two points\n",
    "        straight_line = Line(start=point1.get_center(), end=point2.get_center(), color=BLUE)\n",
    "\n",
    "        # Create a curved line to represent the plucked string\n",
    "        def plucked_string_func(x):\n",
    "            return 0.4 * np.sin(np.pi*2*x)\n",
    "\n",
    "        plucked_string = ax.plot(plucked_string_func, color=BLUE, x_range=[0, 1])\n",
    "\n",
    "        # Add the axes, points, labels, and straight line to the scene\n",
    "        self.add(ax, x_label, y_label, point1, point2, label1, label2, straight_line)\n",
    "\n",
    "        # Transition to the plucked string\n",
    "        self.play(Transform(straight_line, plucked_string))\n",
    "        \n",
    "        # Animate the plucked string vibrating\n",
    "        vibrating_string = plucked_string.copy()\n",
    "        def update_string(mob, dt):\n",
    "            mob.become(ax.plot(lambda x: 0.4 * np.sin(np.pi*2*x) * np.cos(2 * self.renderer.time), color=BLUE, x_range=[0, 1]))\n",
    "\n",
    "        vibrating_string.add_updater(update_string)\n",
    "        \n",
    "        # Replace the original plucked string with the vibrating string\n",
    "        self.remove(straight_line)\n",
    "        self.play(Transform(plucked_string, vibrating_string))\n",
    "        self.remove(plucked_string)\n",
    "        self.add(vibrating_string)\n",
    "        \n",
    "        # Wait for the vibration animation\n",
    "        self.wait(4)\n",
    "\n",
    "        # Restore the original frame\n",
    "        self.play(Restore(self.camera.frame))\n",
    "        self.wait(2)\n"
   ]
  },
  {
   "metadata": {
    "ExecuteTime": {
     "end_time": "2024-06-20T19:57:54.029198Z",
     "start_time": "2024-06-20T19:57:40.592902Z"
    }
   },
   "cell_type": "code",
   "source": [
    "import numpy as np\n",
    "import matplotlib.pyplot as plt\n",
    "\n",
    "# Define the x range\n",
    "x = np.linspace(0, 1, 400)\n",
    "\n",
    "# Initial displacement (assumed to be positive for this example)\n",
    "u0 = np.sin(np.pi * x)  # Example positive displacement\n",
    "\n",
    "# Initial velocity\n",
    "g = np.sin(x) * np.cos(4 * x)\n",
    "\n",
    "# Plot\n",
    "plt.figure(figsize=(10, 6))\n",
    "plt.plot(x, u0, label=r'Initial Displacement $u(x, 0)$')\n",
    "plt.plot(x, g, label=r'Initial Velocity $u_t(x, 0) = g(x)$')\n",
    "plt.axhline(0, color='black',linewidth=0.5)\n",
    "plt.xlabel('x')\n",
    "plt.ylabel('Value')\n",
    "plt.legend()\n",
    "plt.title('Initial Displacement and Velocity of the String')\n",
    "plt.grid(True)\n",
    "plt.show()\n"
   ],
   "id": "ebe7413967ab0605",
   "outputs": [
    {
     "data": {
      "text/plain": [
       "<Figure size 1000x600 with 1 Axes>"
      ],
      "image/png": "[encoded data removed]"
     },
     "metadata": {},
     "output_type": "display_data"
    }
   ],
   "execution_count": 6
  },
  {
   "metadata": {
    "ExecuteTime": {
     "end_time": "2024-06-21T19:43:02.300107Z",
     "start_time": "2024-06-21T19:42:58.890752Z"
    }
   },
   "cell_type": "code",
   "source": [
    "import numpy as np\n",
    "import matplotlib.pyplot as plt\n",
    "\n",
    "# Parameters\n",
    "L = 1.0\n",
    "T = 1.0\n",
    "Nx = 20\n",
    "Nt = 20\n",
    "dx = L / (Nx)\n",
    "dt = T / Nt\n",
    "x = np.linspace(0, L, Nx + 2)\n",
    "t = np.linspace(0, T, Nt + 1)\n",
    "r = (dt / dx)**2\n",
    "\n",
    "# Initial conditions\n",
    "v = np.zeros((Nt + 1, Nx + 2))\n",
    "v[0, 1:Nx+1] = x[1:Nx+1] * (1 - x[1:Nx+1])\n",
    "\n",
    "# Applying the finite difference scheme\n",
    "for n in range(1, Nt):\n",
    "    for j in range(1, Nx + 1):\n",
    "        v[n + 1, j] = 2 * v[n, j] - v[n - 1, j] + r * (v[n, j + 1] - 2 * v[n, j] + v[n, j - 1])\n",
    "\n",
    "# Exact solution (using the first 20 terms for approximation)\n",
    "def exact_solution(x, t):\n",
    "    u = np.zeros_like(x)\n",
    "    for k in range(1, 21):\n",
    "        term = (8 / (np.pi**3 * (2 * k - 1)**3)) * np.sin((2 * k - 1) * np.pi * x) * np.cos((2 * k - 1) * np.pi * t)\n",
    "        u += term\n",
    "    return u\n",
    "\n",
    "# Plotting results\n",
    "plt.figure(figsize=(10, 5))\n",
    "plt.plot(x, v[-1, :], 'r--', label='Numerical Solution')\n",
    "plt.plot(x, exact_solution(x, T), 'b-', label='Exact Solution')\n",
    "plt.xlabel('x')\n",
    "plt.ylabel('u(x, t=1)')\n",
    "plt.title('Comparison of Numerical and Exact Solutions')\n",
    "plt.legend()\n",
    "plt.grid()\n",
    "plt.show()\n"
   ],
   "id": "7a06c7b65ffa9802",
   "outputs": [
    {
     "data": {
      "text/plain": [
       "<Figure size 1000x500 with 1 Axes>"
      ],
      "image/png": "[encoded data removed]"
     },
     "metadata": {},
     "output_type": "display_data"
    }
   ],
   "execution_count": 7
  },
  {
   "metadata": {},
   "cell_type": "markdown",
   "source": "#3dimension graph",
   "id": "ce8ea9b6aeb65d78"
  },
  {
   "metadata": {
    "ExecuteTime": {
     "end_time": "2024-06-21T19:42:45.074687Z",
     "start_time": "2024-06-21T19:42:41.841051Z"
    }
   },
   "cell_type": "code",
   "source": [
    "%%manim -qm TwoDToThreeDGraph\n",
    "\n",
    "from manim import *\n",
    "\n",
    "class TwoDToThreeDGraph(ThreeDScene):\n",
    "    def construct(self):\n",
    "        # Create 2D axes\n",
    "        axes = ThreeDAxes(\n",
    "            x_range=[0, 10, 1],\n",
    "            y_range=[0, 2, 0.5],\n",
    "            z_range=[0, 2, 0.5],\n",
    "            axis_config={\"color\": BLUE}\n",
    "        )\n",
    "\n",
    "        # Create a sine wave plot\n",
    "        sine_wave = axes.plot(lambda x: np.sin(x), color=RED, x_range=[0, 10])\n",
    "\n",
    "        # Add 2D elements to the scene\n",
    "        self.add(axes, sine_wave)\n",
    "\n",
    "        # Set the initial camera orientation to show the 2D graph\n",
    "        self.set_camera_orientation(phi=90 * DEGREES, theta=0 * DEGREES)\n",
    "\n",
    "        # Wait for a moment to display the 2D graph\n",
    "        self.wait(2)\n",
    "\n",
    "        # Animate the camera to show a slight 3D perspective\n",
    "        self.move_camera(phi=75 * DEGREES, theta=-45 * DEGREES, run_time=3)\n",
    "\n",
    "        # Add a third axis label to emphasize the 3D effect\n",
    "        z_label = axes.get_z_axis_label(Tex(\"z\"))\n",
    "        self.add(z_label)\n",
    "\n",
    "        # Wait to show the final perspective\n",
    "        self.wait(2)\n"
   ],
   "id": "bd2bdbf718c47668",
   "outputs": [
    {
     "data": {
      "text/plain": [
       "<Figure size 1000x500 with 1 Axes>"
      ],
      "image/png": "[encoded data removed]"
     },
     "metadata": {},
     "output_type": "display_data"
    }
   ],
   "execution_count": 5
  }
 ],
 "metadata": {
  "kernelspec": {
   "display_name": "Python 3 (ipykernel)",
   "language": "python",
   "name": "python3"
  },
  "language_info": {
   "codemirror_mode": {
    "name": "ipython",
    "version": 3
   },
   "file_extension": ".py",
   "mimetype": "text/x-python",
   "name": "python",
   "nbconvert_exporter": "python",
   "pygments_lexer": "ipython3",
   "version": "3.11.9"
  }
 },
 "nbformat": 4,
 "nbformat_minor": 5
}
